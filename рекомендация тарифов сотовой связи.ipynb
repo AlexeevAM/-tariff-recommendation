{
 "cells": [
  {
   "cell_type": "markdown",
   "metadata": {},
   "source": [
    "# Рекомендация тарифов"
   ]
  },
  {
   "cell_type": "markdown",
   "metadata": {},
   "source": [
    "Оператор мобильной связи «Мегалайн» выяснил: многие клиенты пользуются архивными тарифами. Компания хочет построить систему, способную проанализировать поведение клиентов и предложить пользователям новый тариф: «Смарт» или «Ультра».\n",
    "\n",
    "В вашем распоряжении данные о поведении клиентов, которые уже перешли на эти тарифы (из проекта курса «Статистический анализ данных»). Нужно построить модель для задачи классификации, которая выберет подходящий тариф. Предобработка данных не понадобится — мы её уже сделали.\n",
    "\n",
    "Необходимо построить модель с максимально большим значением *accuracy*. Чтобы сдать проект успешно, нужно довести долю правильных ответов по крайней мере до 0.75. Необходимо проверить *accuracy* на тестовой выборке самостоятельно."
   ]
  },
  {
   "cell_type": "markdown",
   "metadata": {},
   "source": [
    "План работы: \n",
    "\n",
    "1.[Открытие файла с данными и изучение общей информации](#start)\n",
    "\n",
    "2.[Разделение данных на выборки](#split)\n",
    "\n",
    "3.[Исследование моделей](#exploration)\n",
    "\n",
    "4.[Проверка моделей на тестовой выборке](#test)\n",
    "\n",
    "5.[Проверка модели на адекватность](#test_1)\n",
    "\n",
    "6.[Итоговые выводы](#conclusion)"
   ]
  },
  {
   "cell_type": "markdown",
   "metadata": {},
   "source": [
    "<a id=\"start\"></a>\n",
    "## 1. Откройте и изучите файл"
   ]
  },
  {
   "cell_type": "code",
   "execution_count": 1,
   "metadata": {},
   "outputs": [],
   "source": [
    "import pandas as pd\n",
    "from sklearn.model_selection import train_test_split\n",
    "from sklearn.tree import DecisionTreeClassifier\n",
    "from sklearn.ensemble import RandomForestClassifier\n",
    "from sklearn.linear_model import LogisticRegression\n",
    "from sklearn.neighbors import KNeighborsClassifier\n",
    "from sklearn.metrics import accuracy_score\n",
    "from sklearn.metrics import precision_score\n",
    "from sklearn.metrics import recall_score\n",
    "from sklearn.metrics import f1_score\n",
    "import warnings\n",
    "warnings.simplefilter(action='ignore', category=Warning)\n",
    "import matplotlib.pyplot as plt\n",
    "import seaborn as sns"
   ]
  },
  {
   "cell_type": "code",
   "execution_count": 2,
   "metadata": {},
   "outputs": [],
   "source": [
    "df = pd.read_csv('/datasets/users_behavior.csv')"
   ]
  },
  {
   "cell_type": "code",
   "execution_count": 3,
   "metadata": {
    "scrolled": true
   },
   "outputs": [
    {
     "data": {
      "text/html": [
       "<div>\n",
       "<style scoped>\n",
       "    .dataframe tbody tr th:only-of-type {\n",
       "        vertical-align: middle;\n",
       "    }\n",
       "\n",
       "    .dataframe tbody tr th {\n",
       "        vertical-align: top;\n",
       "    }\n",
       "\n",
       "    .dataframe thead th {\n",
       "        text-align: right;\n",
       "    }\n",
       "</style>\n",
       "<table border=\"1\" class=\"dataframe\">\n",
       "  <thead>\n",
       "    <tr style=\"text-align: right;\">\n",
       "      <th></th>\n",
       "      <th>calls</th>\n",
       "      <th>minutes</th>\n",
       "      <th>messages</th>\n",
       "      <th>mb_used</th>\n",
       "      <th>is_ultra</th>\n",
       "    </tr>\n",
       "  </thead>\n",
       "  <tbody>\n",
       "    <tr>\n",
       "      <td>0</td>\n",
       "      <td>40.0</td>\n",
       "      <td>311.90</td>\n",
       "      <td>83.0</td>\n",
       "      <td>19915.42</td>\n",
       "      <td>0</td>\n",
       "    </tr>\n",
       "    <tr>\n",
       "      <td>1</td>\n",
       "      <td>85.0</td>\n",
       "      <td>516.75</td>\n",
       "      <td>56.0</td>\n",
       "      <td>22696.96</td>\n",
       "      <td>0</td>\n",
       "    </tr>\n",
       "    <tr>\n",
       "      <td>2</td>\n",
       "      <td>77.0</td>\n",
       "      <td>467.66</td>\n",
       "      <td>86.0</td>\n",
       "      <td>21060.45</td>\n",
       "      <td>0</td>\n",
       "    </tr>\n",
       "    <tr>\n",
       "      <td>3</td>\n",
       "      <td>106.0</td>\n",
       "      <td>745.53</td>\n",
       "      <td>81.0</td>\n",
       "      <td>8437.39</td>\n",
       "      <td>1</td>\n",
       "    </tr>\n",
       "    <tr>\n",
       "      <td>4</td>\n",
       "      <td>66.0</td>\n",
       "      <td>418.74</td>\n",
       "      <td>1.0</td>\n",
       "      <td>14502.75</td>\n",
       "      <td>0</td>\n",
       "    </tr>\n",
       "  </tbody>\n",
       "</table>\n",
       "</div>"
      ],
      "text/plain": [
       "   calls  minutes  messages   mb_used  is_ultra\n",
       "0   40.0   311.90      83.0  19915.42         0\n",
       "1   85.0   516.75      56.0  22696.96         0\n",
       "2   77.0   467.66      86.0  21060.45         0\n",
       "3  106.0   745.53      81.0   8437.39         1\n",
       "4   66.0   418.74       1.0  14502.75         0"
      ]
     },
     "execution_count": 3,
     "metadata": {},
     "output_type": "execute_result"
    }
   ],
   "source": [
    "df.head()"
   ]
  },
  {
   "cell_type": "code",
   "execution_count": 4,
   "metadata": {
    "scrolled": false
   },
   "outputs": [
    {
     "name": "stdout",
     "output_type": "stream",
     "text": [
      "<class 'pandas.core.frame.DataFrame'>\n",
      "RangeIndex: 3214 entries, 0 to 3213\n",
      "Data columns (total 5 columns):\n",
      "calls       3214 non-null float64\n",
      "minutes     3214 non-null float64\n",
      "messages    3214 non-null float64\n",
      "mb_used     3214 non-null float64\n",
      "is_ultra    3214 non-null int64\n",
      "dtypes: float64(4), int64(1)\n",
      "memory usage: 125.7 KB\n"
     ]
    }
   ],
   "source": [
    "df.info()"
   ]
  },
  {
   "cell_type": "markdown",
   "metadata": {},
   "source": [
    "<div class=\"alert alert-info\"> <b>с целью установления возможной мультиколлениарности рассматриваемых факторов, которая может стать причиной переробучения модели и увеличения сложности модели обучения, то есть факторов, которые имеют сильную связь друг с другом, посмотрим значения коэффициентов корреляции по рассматриваемым переменным. Будем считать, что вве переменных коллинеарны, когда они находятся между собой в линейной зависимости, то есть если коэффициент корреляции более 0,7.</b>"
   ]
  },
  {
   "cell_type": "code",
   "execution_count": 5,
   "metadata": {
    "scrolled": true
   },
   "outputs": [
    {
     "data": {
      "image/png": "[encoded data removed]",
      "text/plain": [
       "<Figure size 720x432 with 2 Axes>"
      ]
     },
     "metadata": {
      "needs_background": "light"
     },
     "output_type": "display_data"
    }
   ],
   "source": [
    "df_corr = df.corr()\n",
    "f, ax = plt.subplots(figsize=(10, 6))\n",
    "plt.xticks(rotation='90')\n",
    "sns.heatmap(df_corr, square=True, linewidths=5, annot=True);"
   ]
  },
  {
   "cell_type": "markdown",
   "metadata": {},
   "source": [
    "<div class=\"alert alert-info\"> <b>мы наблюдаем сильную зависимость между общей длительностью звонков и количеством звонков в месяц, в частности коэффициент корелляции равен 0.98.Чтобы избавиться от мультиколлинарности, необходимо исключить из модели один из факторов, в нашем случае исключим такой фактор,  суммарная длительность звонков в месяц.<b/>"
   ]
  },
  {
   "cell_type": "markdown",
   "metadata": {},
   "source": [
    "### Выводы"
   ]
  },
  {
   "cell_type": "markdown",
   "metadata": {},
   "source": [
    "В ходе выполнения первого шага мы открыли интересующий файл с данными, сохранив его в датафрейме df, а также получили общую информацию об указанном датафрейме.\n",
    "Таблица включает в себя 5 признаков и 3 214 объектов. Целевым признаком является is_ultra, остальные признаки будут служить для обучения модели, т.е. модель, которую мы попытаемся построить, будет предсказывать значение 1, если клиенту нужно предложить тариф \"ультра\", или 0, если тариф \"Смарт\". В этом и заключается задача бинарной классификации, т.к. наш целевой признак является категориальным."
   ]
  },
  {
   "cell_type": "code",
   "execution_count": null,
   "metadata": {},
   "outputs": [],
   "source": []
  },
  {
   "cell_type": "markdown",
   "metadata": {},
   "source": [
    "<a id=\"split\"></a>\n",
    "## 2. Разбейте данные на выборки"
   ]
  },
  {
   "cell_type": "markdown",
   "metadata": {},
   "source": [
    "Разделим исходные данные на обучающую, валидационную и тестовую выборки."
   ]
  },
  {
   "cell_type": "markdown",
   "metadata": {},
   "source": [
    "60% отводим под обучающую выборку, а 40 % на валидационную\n"
   ]
  },
  {
   "cell_type": "code",
   "execution_count": 6,
   "metadata": {},
   "outputs": [],
   "source": [
    "df_train, df_valid = train_test_split(df, test_size=0.4, random_state=12345)"
   ]
  },
  {
   "cell_type": "markdown",
   "metadata": {},
   "source": [
    "Далее, половину из оставшихся 40% отдаем на валидационную, другую половину – на тестовую. Таким образом, соотношение выборок в процентном выражении будет следующим: 60/20/20.\n"
   ]
  },
  {
   "cell_type": "code",
   "execution_count": 7,
   "metadata": {},
   "outputs": [],
   "source": [
    "df_valid, df_test = train_test_split(df_valid, test_size=0.5, random_state=12345)"
   ]
  },
  {
   "cell_type": "markdown",
   "metadata": {},
   "source": [
    "<div class=\"alert alert-info\"> <b>посмотрим также на размеры выборок<b/>"
   ]
  },
  {
   "cell_type": "code",
   "execution_count": 8,
   "metadata": {},
   "outputs": [
    {
     "data": {
      "text/plain": [
       "(1928, 5)"
      ]
     },
     "execution_count": 8,
     "metadata": {},
     "output_type": "execute_result"
    }
   ],
   "source": [
    "df_train.shape"
   ]
  },
  {
   "cell_type": "code",
   "execution_count": 9,
   "metadata": {},
   "outputs": [
    {
     "data": {
      "text/plain": [
       "(643, 5)"
      ]
     },
     "execution_count": 9,
     "metadata": {},
     "output_type": "execute_result"
    }
   ],
   "source": [
    "df_valid.shape"
   ]
  },
  {
   "cell_type": "code",
   "execution_count": 10,
   "metadata": {
    "scrolled": true
   },
   "outputs": [
    {
     "data": {
      "text/plain": [
       "(643, 5)"
      ]
     },
     "execution_count": 10,
     "metadata": {},
     "output_type": "execute_result"
    }
   ],
   "source": [
    "df_test.shape"
   ]
  },
  {
   "cell_type": "markdown",
   "metadata": {},
   "source": [
    "как видим, выборки небольшие, поэтому существует большая вероятность переобучения модели"
   ]
  },
  {
   "cell_type": "markdown",
   "metadata": {},
   "source": [
    "### Выводы"
   ]
  },
  {
   "cell_type": "markdown",
   "metadata": {},
   "source": [
    "Мы разделили исходные данные на обучающую, валидационную и тестовую выборки.\n",
    "Данные были разбиты в соотношении 60/20/20.\n",
    "Обучение пройдет на данных df_train\n",
    "Валидация модели на данных df_valid\n",
    "Лучшая модель по валидации будет применена на данных df_test."
   ]
  },
  {
   "cell_type": "markdown",
   "metadata": {},
   "source": [
    "<a id=\"exploration\"></a>\n",
    "## 3. Исследуйте модели"
   ]
  },
  {
   "cell_type": "markdown",
   "metadata": {},
   "source": [
    "На данном шаге мы исследуем качество разных моделей, меняя гиперпараметры.\n",
    "Для решения задачи классификации рассмотрим следующие модели:\n",
    "\n",
    "дерево решений / decision tree\n",
    "\n",
    "случайный лес / random forest\n",
    "\n",
    "логистическая регрессия / logistic regression\n",
    "\n",
    "k - ближайших соседей/ k - nearеst neighbor"
   ]
  },
  {
   "cell_type": "markdown",
   "metadata": {},
   "source": [
    "Подготовим фичи и целевые признаки обучающей и валидационных выборок"
   ]
  },
  {
   "cell_type": "code",
   "execution_count": 11,
   "metadata": {},
   "outputs": [],
   "source": [
    "features_train = df_train.drop(['is_ultra', 'minutes'], axis=1)\n",
    "target_train = df_train['is_ultra']\n",
    "\n",
    "features_valid = df_valid.drop(['is_ultra', 'minutes'], axis=1)\n",
    "target_valid = df_valid['is_ultra']"
   ]
  },
  {
   "cell_type": "markdown",
   "metadata": {},
   "source": [
    "Начнем с дерева решений и посмотрим как изменение такого гиперпараметра, как глубина решающего дерева (max_depth), влияет на оценку точности модели. Глубину возьмем в диапазоне значений от 1 до 20 квлючительно."
   ]
  },
  {
   "cell_type": "markdown",
   "metadata": {},
   "source": [
    "### Дерево решений"
   ]
  },
  {
   "cell_type": "code",
   "execution_count": 12,
   "metadata": {},
   "outputs": [
    {
     "name": "stdout",
     "output_type": "stream",
     "text": [
      "depth = 1:\t0.7542768273716952\n",
      "depth = 2:\t0.7838258164852255\n",
      "depth = 3:\t0.7869362363919129\n",
      "depth = 4:\t0.7853810264385692\n",
      "depth = 5:\t0.7900466562986003\n",
      "depth = 6:\t0.7776049766718507\n",
      "depth = 7:\t0.776049766718507\n",
      "depth = 8:\t0.7729393468118196\n",
      "depth = 9:\t0.7822706065318819\n",
      "depth = 10:\t0.7729393468118196\n",
      "depth = 11:\t0.7667185069984448\n",
      "depth = 12:\t0.7573872472783826\n",
      "depth = 13:\t0.7527216174183515\n",
      "depth = 14:\t0.7511664074650077\n",
      "depth = 15:\t0.744945567651633\n",
      "depth = 16:\t0.7418351477449455\n",
      "depth = 17:\t0.744945567651633\n",
      "depth = 18:\t0.7480559875583204\n",
      "depth = 19:\t0.744945567651633\n",
      "depth = 20:\t0.7387247278382582\n",
      "Лучшая глубина дерева: 5 Лучшая точность: 0.7900466562986003\n"
     ]
    }
   ],
   "source": [
    "best_depth = 0\n",
    "best_result = 0\n",
    "for depth in range(1, 21):\n",
    "    model = DecisionTreeClassifier(max_depth=depth, random_state=12345)\n",
    "    model.fit(features_train, target_train)\n",
    "    predictions_valid = model.predict(features_valid)\n",
    "    result = accuracy_score(target_valid, predictions_valid)\n",
    "    print(f\"depth = {depth}:\\t{result}\")\n",
    "    if result > best_result:\n",
    "        best_depth = depth\n",
    "        best_result = result\n",
    "print('Лучшая глубина дерева:', best_depth,'Лучшая точность:', best_result)"
   ]
  },
  {
   "cell_type": "markdown",
   "metadata": {},
   "source": [
    "Глядя на валидационную выборку мы можем сказать, что дерево решений имеет самую высокую оценку точности, когда в рассматриваемом диапазаоне гиперпараметр глубины равен 5."
   ]
  },
  {
   "cell_type": "code",
   "execution_count": 13,
   "metadata": {
    "scrolled": true
   },
   "outputs": [
    {
     "name": "stdout",
     "output_type": "stream",
     "text": [
      "Глубина дерева: 5 Точность: 0.7900466562986003\n",
      "CPU times: user 10.5 ms, sys: 496 µs, total: 11 ms\n",
      "Wall time: 8.58 ms\n"
     ]
    }
   ],
   "source": [
    "%%time\n",
    "best_tree_model = DecisionTreeClassifier(max_depth= 5, random_state=12345)\n",
    "best_tree_model.fit(features_train, target_train)\n",
    "predictions_valid = best_tree_model.predict(features_valid)\n",
    "result = accuracy_score(target_valid, predictions_valid)\n",
    "print('Глубина дерева:', 5,'Точность:',result)"
   ]
  },
  {
   "cell_type": "markdown",
   "metadata": {},
   "source": [
    "Далее настроим такоей гиперпараметр, как criterion, поменяем  значение gini, которое стоит по умлочанию, на entropy, глубину дерева оставим с наилучшим значнием."
   ]
  },
  {
   "cell_type": "code",
   "execution_count": 14,
   "metadata": {
    "scrolled": true
   },
   "outputs": [
    {
     "name": "stdout",
     "output_type": "stream",
     "text": [
      "Глубина дерева: 5 Точность: 0.7869362363919129\n",
      "CPU times: user 10.1 ms, sys: 401 µs, total: 10.5 ms\n",
      "Wall time: 9.1 ms\n"
     ]
    }
   ],
   "source": [
    "%%time\n",
    "model = DecisionTreeClassifier(max_depth=5, random_state=12345,criterion=\"entropy\" )\n",
    "model.fit(features_train, target_train)\n",
    "predictions_valid = model.predict(features_valid)\n",
    "result = accuracy_score(target_valid, predictions_valid)\n",
    "print('Глубина дерева:', 5,'Точность:',result)"
   ]
  },
  {
   "cell_type": "markdown",
   "metadata": {},
   "source": [
    "как видим, на показатель точности модели это  повлияло, значение этого показателя снизилось."
   ]
  },
  {
   "cell_type": "markdown",
   "metadata": {},
   "source": [
    "Далее изменим значение гиперпараметра splitter с best на random."
   ]
  },
  {
   "cell_type": "code",
   "execution_count": 15,
   "metadata": {
    "scrolled": true
   },
   "outputs": [
    {
     "name": "stdout",
     "output_type": "stream",
     "text": [
      "Глубина дерева: 5 Точность: 0.7776049766718507\n",
      "CPU times: user 3.39 ms, sys: 3.96 ms, total: 7.35 ms\n",
      "Wall time: 5.59 ms\n"
     ]
    }
   ],
   "source": [
    "%%time\n",
    "model = DecisionTreeClassifier(max_depth=5, random_state=12345,splitter='random' )\n",
    "model.fit(features_train, target_train)\n",
    "predictions_valid = model.predict(features_valid)\n",
    "result = accuracy_score(target_valid, predictions_valid)\n",
    "print('Глубина дерева:', 5,'Точность:',result)"
   ]
  },
  {
   "cell_type": "markdown",
   "metadata": {},
   "source": [
    "как видим, качество (точность) модели существенно ухудшилось, поэтому значение best более предпочтительно"
   ]
  },
  {
   "cell_type": "markdown",
   "metadata": {},
   "source": [
    "### Случайный лес \n"
   ]
  },
  {
   "cell_type": "markdown",
   "metadata": {},
   "source": [
    "В качестве гиперпараметра глубины дерева возьмем значение, которое в предыдущей модели мы определили как наилучшее из рассматриваемого диапазона, а именно 5.\n",
    "Количество деревьев в нашем случайном лесу будет находиться в диапазоне от 10 до 100 с шагом 10."
   ]
  },
  {
   "cell_type": "code",
   "execution_count": 16,
   "metadata": {},
   "outputs": [
    {
     "name": "stdout",
     "output_type": "stream",
     "text": [
      "n_estimators = 10:\t0.7900466562986003\n",
      "n_estimators = 20:\t0.7838258164852255\n",
      "n_estimators = 30:\t0.7838258164852255\n",
      "n_estimators = 40:\t0.7807153965785381\n",
      "n_estimators = 50:\t0.7869362363919129\n",
      "n_estimators = 60:\t0.7869362363919129\n",
      "n_estimators = 70:\t0.7853810264385692\n",
      "n_estimators = 80:\t0.7853810264385692\n",
      "n_estimators = 90:\t0.7853810264385692\n",
      "n_estimators = 100:\t0.7838258164852255\n",
      "Лучший показатель количества деревьев: 10 Лучшая точность: 0.7900466562986003\n"
     ]
    }
   ],
   "source": [
    "best_estim = 0\n",
    "best_result = 0\n",
    "for estim in range(10, 101, 10):\n",
    "    model = RandomForestClassifier(n_estimators=estim, max_depth=5, random_state=12345)\n",
    "    model.fit(features_train, target_train)\n",
    "    predictions_valid = model.predict(features_valid)\n",
    "    result = accuracy_score(target_valid, predictions_valid)\n",
    "    print(f\"n_estimators = {estim}:\\t{result}\")    \n",
    "    if result > best_result:\n",
    "        best_estim = estim\n",
    "        best_result = result\n",
    "print('Лучший показатель количества деревьев:', best_estim,'Лучшая точность:', best_result)"
   ]
  },
  {
   "cell_type": "markdown",
   "metadata": {},
   "source": [
    "Как мы видим, модель случайного леса предсказывает тариф немного точнее, чем одно дерево, однако разница не так существенна, даже с учетом того, что количество деревьев составило 10, при этом скорость расчета, как мы понимаем, будет заметно медленнее."
   ]
  },
  {
   "cell_type": "code",
   "execution_count": 17,
   "metadata": {
    "scrolled": true
   },
   "outputs": [
    {
     "name": "stdout",
     "output_type": "stream",
     "text": [
      "Количество деревьев: 10 Точность 0.7900466562986003\n",
      "CPU times: user 35.1 ms, sys: 0 ns, total: 35.1 ms\n",
      "Wall time: 33.2 ms\n"
     ]
    }
   ],
   "source": [
    "%%time\n",
    "best_forest_model = RandomForestClassifier(n_estimators=10, max_depth=5, random_state=12345)\n",
    "best_forest_model.fit(features_train, target_train)\n",
    "predictions_valid = best_forest_model.predict(features_valid)\n",
    "result = accuracy_score(target_valid, predictions_valid)\n",
    "print('Количество деревьев:', 10,'Точность',result)"
   ]
  },
  {
   "cell_type": "markdown",
   "metadata": {},
   "source": [
    "Аналогичным образом настроим гиперпараметр criterion с gini на entropy."
   ]
  },
  {
   "cell_type": "code",
   "execution_count": 18,
   "metadata": {
    "scrolled": false
   },
   "outputs": [
    {
     "name": "stdout",
     "output_type": "stream",
     "text": [
      "Количество деревьев: 10 Точность 0.7869362363919129\n",
      "CPU times: user 34.2 ms, sys: 3.7 ms, total: 37.9 ms\n",
      "Wall time: 60.4 ms\n"
     ]
    }
   ],
   "source": [
    "%%time\n",
    "model = RandomForestClassifier(n_estimators=10, max_depth=5, random_state=12345, criterion='entropy')\n",
    "model.fit(features_train, target_train)\n",
    "predictions_valid = model.predict(features_valid)\n",
    "result = accuracy_score(target_valid, predictions_valid)\n",
    "print('Количество деревьев:', 10,'Точность',result)"
   ]
  },
  {
   "cell_type": "markdown",
   "metadata": {},
   "source": [
    "как видим, точность снизилась"
   ]
  },
  {
   "cell_type": "markdown",
   "metadata": {},
   "source": [
    "Изменим значение гиперпараметра bootstrap с True на False."
   ]
  },
  {
   "cell_type": "code",
   "execution_count": 19,
   "metadata": {
    "scrolled": true
   },
   "outputs": [
    {
     "name": "stdout",
     "output_type": "stream",
     "text": [
      "Количество деревьев: 10 Точность 0.7931570762052877\n",
      "CPU times: user 36.7 ms, sys: 605 µs, total: 37.3 ms\n",
      "Wall time: 35.3 ms\n"
     ]
    }
   ],
   "source": [
    "%%time\n",
    "model = RandomForestClassifier(n_estimators=10, max_depth=5, random_state=12345, bootstrap=False)\n",
    "model.fit(features_train, target_train)\n",
    "predictions_valid = model.predict(features_valid)\n",
    "result = accuracy_score(target_valid, predictions_valid)\n",
    "print('Количество деревьев:', 10,'Точность',result)"
   ]
  },
  {
   "cell_type": "markdown",
   "metadata": {},
   "source": [
    "как видим, точность модели улудшилась, поэтому значение False гиперпараметра bootstrap более предпочительное"
   ]
  },
  {
   "cell_type": "markdown",
   "metadata": {},
   "source": [
    "Также поэкспериментируем с гиперпараметром warm_start, в частности изменим с False на True"
   ]
  },
  {
   "cell_type": "code",
   "execution_count": 20,
   "metadata": {},
   "outputs": [
    {
     "name": "stdout",
     "output_type": "stream",
     "text": [
      "Количество деревьев: 10 Точность 0.7900466562986003\n",
      "CPU times: user 36.8 ms, sys: 589 µs, total: 37.4 ms\n",
      "Wall time: 34.7 ms\n"
     ]
    }
   ],
   "source": [
    "%%time\n",
    "model = RandomForestClassifier(n_estimators=10, max_depth=5, random_state=12345, warm_start=True)\n",
    "model.fit(features_train, target_train)\n",
    "predictions_valid = model.predict(features_valid)\n",
    "result = accuracy_score(target_valid, predictions_valid)\n",
    "print('Количество деревьев:', 10,'Точность',result)"
   ]
  },
  {
   "cell_type": "markdown",
   "metadata": {},
   "source": [
    "как видим, на показатель точности это не повлияло"
   ]
  },
  {
   "cell_type": "markdown",
   "metadata": {},
   "source": [
    "таким образом, с учетом наших экспериментов с гиперпараметрами, сохраним лучшую модель случайного леса"
   ]
  },
  {
   "cell_type": "code",
   "execution_count": 21,
   "metadata": {},
   "outputs": [
    {
     "name": "stdout",
     "output_type": "stream",
     "text": [
      "Количество деревьев: 10 Точность 0.7931570762052877\n",
      "CPU times: user 32.7 ms, sys: 3.45 ms, total: 36.1 ms\n",
      "Wall time: 34.1 ms\n"
     ]
    }
   ],
   "source": [
    "%%time\n",
    "best_forest_model = RandomForestClassifier(n_estimators=10, max_depth=5, random_state=12345, bootstrap=False)\n",
    "best_forest_model.fit(features_train, target_train)\n",
    "predictions_valid = best_forest_model.predict(features_valid)\n",
    "result = accuracy_score(target_valid, predictions_valid)\n",
    "print('Количество деревьев:', 10,'Точность',result)"
   ]
  },
  {
   "cell_type": "markdown",
   "metadata": {},
   "source": [
    "### Логистическая регрессия"
   ]
  },
  {
   "cell_type": "markdown",
   "metadata": {},
   "source": [
    "Переходим к логистической регрессии. Посмотрим, как влияет изменение гиперпараметра max_iter (количество итераций) на точность модели, количество итераций возьмем в диапазоне значений от 1 до 100."
   ]
  },
  {
   "cell_type": "code",
   "execution_count": 22,
   "metadata": {
    "scrolled": false
   },
   "outputs": [
    {
     "name": "stdout",
     "output_type": "stream",
     "text": [
      "Количество итерраций: 1 Точность: 0.7060653188180405\n",
      "Количество итерраций: 2 Точность: 0.7060653188180405\n",
      "Количество итерраций: 3 Точность: 0.7060653188180405\n",
      "Количество итерраций: 4 Точность: 0.7060653188180405\n",
      "Количество итерраций: 5 Точность: 0.7060653188180405\n",
      "Количество итерраций: 6 Точность: 0.7060653188180405\n",
      "Количество итерраций: 7 Точность: 0.7076205287713841\n",
      "Количество итерраций: 8 Точность: 0.7091757387247278\n",
      "Количество итерраций: 9 Точность: 0.7091757387247278\n",
      "Количество итерраций: 10 Точность: 0.7076205287713841\n",
      "Количество итерраций: 11 Точность: 0.7060653188180405\n",
      "Количество итерраций: 12 Точность: 0.7091757387247278\n",
      "Количество итерраций: 13 Точность: 0.7091757387247278\n",
      "Количество итерраций: 14 Точность: 0.7091757387247278\n",
      "Количество итерраций: 15 Точность: 0.7091757387247278\n",
      "Количество итерраций: 16 Точность: 0.713841368584759\n",
      "Количество итерраций: 17 Точность: 0.7153965785381027\n",
      "Количество итерраций: 18 Точность: 0.7511664074650077\n",
      "Количество итерраций: 19 Точность: 0.7511664074650077\n",
      "Количество итерраций: 20 Точность: 0.7511664074650077\n",
      "Количество итерраций: 21 Точность: 0.7511664074650077\n",
      "Количество итерраций: 22 Точность: 0.7511664074650077\n",
      "Количество итерраций: 23 Точность: 0.7511664074650077\n",
      "Количество итерраций: 24 Точность: 0.7511664074650077\n",
      "Количество итерраций: 25 Точность: 0.7511664074650077\n",
      "Количество итерраций: 26 Точность: 0.7511664074650077\n",
      "Количество итерраций: 27 Точность: 0.7511664074650077\n",
      "Количество итерраций: 28 Точность: 0.7511664074650077\n",
      "Количество итерраций: 29 Точность: 0.7511664074650077\n",
      "Количество итерраций: 30 Точность: 0.7511664074650077\n",
      "Количество итерраций: 31 Точность: 0.7511664074650077\n",
      "Количество итерраций: 32 Точность: 0.7511664074650077\n",
      "Количество итерраций: 33 Точность: 0.7511664074650077\n",
      "Количество итерраций: 34 Точность: 0.7511664074650077\n",
      "Количество итерраций: 35 Точность: 0.7511664074650077\n",
      "Количество итерраций: 36 Точность: 0.7511664074650077\n",
      "Количество итерраций: 37 Точность: 0.7511664074650077\n",
      "Количество итерраций: 38 Точность: 0.7511664074650077\n",
      "Количество итерраций: 39 Точность: 0.7511664074650077\n",
      "Количество итерраций: 40 Точность: 0.7511664074650077\n",
      "Количество итерраций: 41 Точность: 0.7511664074650077\n",
      "Количество итерраций: 42 Точность: 0.7511664074650077\n",
      "Количество итерраций: 43 Точность: 0.7511664074650077\n",
      "Количество итерраций: 44 Точность: 0.7511664074650077\n",
      "Количество итерраций: 45 Точность: 0.7511664074650077\n",
      "Количество итерраций: 46 Точность: 0.7511664074650077\n",
      "Количество итерраций: 47 Точность: 0.7511664074650077\n",
      "Количество итерраций: 48 Точность: 0.7511664074650077\n",
      "Количество итерраций: 49 Точность: 0.7511664074650077\n",
      "Количество итерраций: 50 Точность: 0.7511664074650077\n",
      "Количество итерраций: 51 Точность: 0.7511664074650077\n",
      "Количество итерраций: 52 Точность: 0.7511664074650077\n",
      "Количество итерраций: 53 Точность: 0.7511664074650077\n",
      "Количество итерраций: 54 Точность: 0.7511664074650077\n",
      "Количество итерраций: 55 Точность: 0.7511664074650077\n",
      "Количество итерраций: 56 Точность: 0.7511664074650077\n",
      "Количество итерраций: 57 Точность: 0.7511664074650077\n",
      "Количество итерраций: 58 Точность: 0.7511664074650077\n",
      "Количество итерраций: 59 Точность: 0.7511664074650077\n",
      "Количество итерраций: 60 Точность: 0.7511664074650077\n",
      "Количество итерраций: 61 Точность: 0.7511664074650077\n",
      "Количество итерраций: 62 Точность: 0.7511664074650077\n",
      "Количество итерраций: 63 Точность: 0.7511664074650077\n",
      "Количество итерраций: 64 Точность: 0.7511664074650077\n",
      "Количество итерраций: 65 Точность: 0.7511664074650077\n",
      "Количество итерраций: 66 Точность: 0.7511664074650077\n",
      "Количество итерраций: 67 Точность: 0.7511664074650077\n",
      "Количество итерраций: 68 Точность: 0.7511664074650077\n",
      "Количество итерраций: 69 Точность: 0.7511664074650077\n",
      "Количество итерраций: 70 Точность: 0.7511664074650077\n",
      "Количество итерраций: 71 Точность: 0.7511664074650077\n",
      "Количество итерраций: 72 Точность: 0.7511664074650077\n",
      "Количество итерраций: 73 Точность: 0.7511664074650077\n",
      "Количество итерраций: 74 Точность: 0.7511664074650077\n",
      "Количество итерраций: 75 Точность: 0.7511664074650077\n",
      "Количество итерраций: 76 Точность: 0.7511664074650077\n",
      "Количество итерраций: 77 Точность: 0.7511664074650077\n",
      "Количество итерраций: 78 Точность: 0.7511664074650077\n",
      "Количество итерраций: 79 Точность: 0.7511664074650077\n",
      "Количество итерраций: 80 Точность: 0.7511664074650077\n",
      "Количество итерраций: 81 Точность: 0.7511664074650077\n",
      "Количество итерраций: 82 Точность: 0.7511664074650077\n",
      "Количество итерраций: 83 Точность: 0.7511664074650077\n",
      "Количество итерраций: 84 Точность: 0.7511664074650077\n",
      "Количество итерраций: 85 Точность: 0.7511664074650077\n",
      "Количество итерраций: 86 Точность: 0.7511664074650077\n",
      "Количество итерраций: 87 Точность: 0.7511664074650077\n",
      "Количество итерраций: 88 Точность: 0.7511664074650077\n",
      "Количество итерраций: 89 Точность: 0.7511664074650077\n",
      "Количество итерраций: 90 Точность: 0.7511664074650077\n",
      "Количество итерраций: 91 Точность: 0.7511664074650077\n",
      "Количество итерраций: 92 Точность: 0.7511664074650077\n",
      "Количество итерраций: 93 Точность: 0.7511664074650077\n",
      "Количество итерраций: 94 Точность: 0.7511664074650077\n",
      "Количество итерраций: 95 Точность: 0.7511664074650077\n",
      "Количество итерраций: 96 Точность: 0.7511664074650077\n",
      "Количество итерраций: 97 Точность: 0.7511664074650077\n",
      "Количество итерраций: 98 Точность: 0.7511664074650077\n",
      "Количество итерраций: 99 Точность: 0.7511664074650077\n",
      "Количество итерраций: 100 Точность: 0.7511664074650077\n",
      "Лучший показатель количества итерраций: 18 Лучшая точность: 0.7511664074650077\n"
     ]
    }
   ],
   "source": [
    "best_max_iter = 0\n",
    "best_result = 0\n",
    "\n",
    "for max_iter in range(1,101):\n",
    "    model = LogisticRegression(random_state=12345, max_iter=max_iter)\n",
    "    model.fit(features_train, target_train)\n",
    "    valid_predictions = model.predict(features_valid)\n",
    "    result = accuracy_score(target_valid, valid_predictions)\n",
    "    print('Количество итерраций:', max_iter,'Точность:',result)\n",
    "    if result > best_result:\n",
    "        best_max_iter = max_iter\n",
    "        best_result = result\n",
    "\n",
    "print('Лучший показатель количества итерраций:', best_max_iter,'Лучшая точность:', best_result)"
   ]
  },
  {
   "cell_type": "markdown",
   "metadata": {},
   "source": [
    "как видим, количество итераций в рассматриваемом диапазоне значений, имальное количество итераций равно 18, при этом с увеличением данного показателя показатель точности не изменяется."
   ]
  },
  {
   "cell_type": "code",
   "execution_count": 23,
   "metadata": {
    "scrolled": true
   },
   "outputs": [
    {
     "name": "stdout",
     "output_type": "stream",
     "text": [
      "Количество итерраций: 18 Точность: 0.7511664074650077\n",
      "CPU times: user 12.2 ms, sys: 3.52 ms, total: 15.7 ms\n",
      "Wall time: 13.6 ms\n"
     ]
    }
   ],
   "source": [
    "%%time\n",
    "best_log_model = LogisticRegression(random_state=12345, max_iter=18)\n",
    "best_log_model.fit(features_train, target_train)\n",
    "valid_predictions = best_log_model.predict(features_valid)\n",
    "result = accuracy_score(target_valid, valid_predictions)\n",
    "print('Количество итерраций:', 18,'Точность:',result)"
   ]
  },
  {
   "cell_type": "markdown",
   "metadata": {},
   "source": [
    "Поэкспериментируем со значениями другого гиперпараметра,а именно solver."
   ]
  },
  {
   "cell_type": "code",
   "execution_count": 24,
   "metadata": {
    "scrolled": true
   },
   "outputs": [
    {
     "name": "stdout",
     "output_type": "stream",
     "text": [
      "Solver: newton-cg Точность: 0.7402799377916018\n",
      "Solver: lbfgs Точность: 0.7076205287713841\n",
      "Solver: liblinear Точность: 0.7511664074650077\n",
      "Solver: sag Точность: 0.7060653188180405\n",
      "Solver: saga Точность: 0.7060653188180405\n",
      "Лучшее значение solver: liblinear Лучшая точность: 0.7511664074650077\n"
     ]
    }
   ],
   "source": [
    "\n",
    "best_solver = ''\n",
    "best_result = 0\n",
    "solvers = ['newton-cg', 'lbfgs', 'liblinear', 'sag', 'saga']\n",
    "for solve in solvers:\n",
    "    model = LogisticRegression(random_state=12345, max_iter=18, solver=solve)\n",
    "    model.fit(features_train, target_train)\n",
    "    valid_predictions = model.predict(features_valid)\n",
    "    result = accuracy_score(target_valid, valid_predictions)\n",
    "    print('Solver:', solve,'Точность:',result)\n",
    "    if result > best_result:\n",
    "        best_solver= solve\n",
    "        best_result = result\n",
    "print('Лучшее значение solver:', best_solver,'Лучшая точность:', best_result)"
   ]
  },
  {
   "cell_type": "markdown",
   "metadata": {},
   "source": [
    "как видим, лучший алгоритм задачи оптимизации - liblinear."
   ]
  },
  {
   "cell_type": "markdown",
   "metadata": {},
   "source": [
    "изменим значение гиперпараметра fit_intercept с True на False"
   ]
  },
  {
   "cell_type": "code",
   "execution_count": 25,
   "metadata": {},
   "outputs": [
    {
     "name": "stdout",
     "output_type": "stream",
     "text": [
      "Количество итерраций: 18 Точность: 0.7076205287713841\n",
      "CPU times: user 8.17 ms, sys: 4.09 ms, total: 12.3 ms\n",
      "Wall time: 9.84 ms\n"
     ]
    }
   ],
   "source": [
    "%%time\n",
    "model = LogisticRegression(random_state=12345, max_iter=18, solver = 'liblinear', fit_intercept=False)\n",
    "model.fit(features_train, target_train)\n",
    "valid_predictions = model.predict(features_valid)\n",
    "result = accuracy_score(target_valid, valid_predictions)\n",
    "print('Количество итерраций:', 18,'Точность:',result)"
   ]
  },
  {
   "cell_type": "markdown",
   "metadata": {},
   "source": [
    "как видим, точность ухудшилась, поэтому лцучше оставить значение fit_intercept по умолчанию."
   ]
  },
  {
   "cell_type": "markdown",
   "metadata": {},
   "source": [
    "### Метод K - ближайших соседей"
   ]
  },
  {
   "cell_type": "markdown",
   "metadata": {},
   "source": [
    "посмотрим на качество данной модели, изменяя параметр количества \"соседей\" в диапазоне значени от 1 до 10."
   ]
  },
  {
   "cell_type": "code",
   "execution_count": 26,
   "metadata": {
    "scrolled": true
   },
   "outputs": [
    {
     "name": "stdout",
     "output_type": "stream",
     "text": [
      "n_neighbors = 1:\t0.6889580093312597\n",
      "n_neighbors = 2:\t0.7511664074650077\n",
      "n_neighbors = 3:\t0.744945567651633\n",
      "n_neighbors = 4:\t0.7527216174183515\n",
      "n_neighbors = 5:\t0.7371695178849145\n",
      "n_neighbors = 6:\t0.7402799377916018\n",
      "n_neighbors = 7:\t0.7293934681181959\n",
      "n_neighbors = 8:\t0.744945567651633\n",
      "n_neighbors = 9:\t0.7402799377916018\n",
      "n_neighbors = 10:\t0.7511664074650077\n",
      "Лучший показатель количества соседей: 4 Лучшая точность: 0.7527216174183515\n"
     ]
    }
   ],
   "source": [
    "best_n_neighbors = 0\n",
    "best_result = 0\n",
    "for k in range(1,11):\n",
    "    model = KNeighborsClassifier(n_neighbors=k)\n",
    "    model.fit(features_train, target_train)\n",
    "    predictions_valid = model.predict(features_valid)\n",
    "    result = accuracy_score(target_valid, predictions_valid)\n",
    "    print(f\"n_neighbors = {k}:\\t{result}\")    \n",
    "    if result > best_result:\n",
    "        best_n_neighbors = k\n",
    "        best_result = result\n",
    "print('Лучший показатель количества соседей:', best_n_neighbors,'Лучшая точность:', best_result)"
   ]
  },
  {
   "cell_type": "markdown",
   "metadata": {},
   "source": [
    "Как мы видим, модель к-ближайших соседей предсказывает тариф немного точнее, чем логистическая регрессия, однако менее точно, чем деревья решений"
   ]
  },
  {
   "cell_type": "code",
   "execution_count": 27,
   "metadata": {
    "scrolled": true
   },
   "outputs": [
    {
     "name": "stdout",
     "output_type": "stream",
     "text": [
      "Количество соседей: 4 Точность: 0.7527216174183515\n",
      "CPU times: user 32.7 ms, sys: 21.2 ms, total: 53.8 ms\n",
      "Wall time: 42.7 ms\n"
     ]
    }
   ],
   "source": [
    "%%time\n",
    "best_neighbor_model = KNeighborsClassifier(n_neighbors=4)\n",
    "best_neighbor_model.fit(features_train, target_train)\n",
    "predictions_valid = best_neighbor_model.predict(features_valid)\n",
    "result = accuracy_score(target_valid, predictions_valid)\n",
    "print('Количество соседей:', 4,'Точность:',result)"
   ]
  },
  {
   "cell_type": "markdown",
   "metadata": {},
   "source": [
    "попробуем поизменять значение такого гиперпараметра, как algorithm"
   ]
  },
  {
   "cell_type": "code",
   "execution_count": 28,
   "metadata": {
    "scrolled": true
   },
   "outputs": [
    {
     "name": "stdout",
     "output_type": "stream",
     "text": [
      "Algorithm: ball_tree Точность: 0.7527216174183515\n",
      "Algorithm: auto Точность: 0.7527216174183515\n",
      "Algorithm: brute Точность: 0.7527216174183515\n",
      "Algorithm: kd_tree Точность: 0.7527216174183515\n",
      "Лучший algorithm: ball_tree Лучшая точность: 0.7527216174183515\n"
     ]
    }
   ],
   "source": [
    "\n",
    "best_algorithm = ''\n",
    "best_result = 0\n",
    "\n",
    "for algorithm in {'auto', 'ball_tree', 'kd_tree', 'brute'}:\n",
    "    model = KNeighborsClassifier(n_neighbors=4)\n",
    "    model.fit(features_train, target_train)\n",
    "    valid_predictions = model.predict(features_valid)\n",
    "    result = accuracy_score(target_valid, valid_predictions)\n",
    "    print('Algorithm:', algorithm,'Точность:',result)\n",
    "    if result > best_result:\n",
    "        best_algorithm= algorithm\n",
    "        best_result = result\n",
    "\n",
    "print('Лучший algorithm:', best_algorithm,'Лучшая точность:', best_result)"
   ]
  },
  {
   "cell_type": "markdown",
   "metadata": {},
   "source": [
    "как видим, изменение данного гиперпараметра не влияет на точность модели."
   ]
  },
  {
   "cell_type": "markdown",
   "metadata": {},
   "source": [
    "попробуем также изменить гиперпараметр weights  c uniform на distance"
   ]
  },
  {
   "cell_type": "code",
   "execution_count": 29,
   "metadata": {},
   "outputs": [
    {
     "name": "stdout",
     "output_type": "stream",
     "text": [
      "Количество соседей: 4 Точность: 0.7402799377916018\n",
      "CPU times: user 10.3 ms, sys: 257 µs, total: 10.6 ms\n",
      "Wall time: 8.56 ms\n"
     ]
    }
   ],
   "source": [
    "%%time\n",
    "model = KNeighborsClassifier(n_neighbors=4, weights = 'distance')\n",
    "model.fit(features_train, target_train)\n",
    "predictions_valid = model.predict(features_valid)\n",
    "result = accuracy_score(target_valid, predictions_valid)\n",
    "print('Количество соседей:', 4,'Точность:',result)"
   ]
  },
  {
   "cell_type": "markdown",
   "metadata": {},
   "source": [
    "как видим, после внесения данных изменений качество модели ухудшилось."
   ]
  },
  {
   "cell_type": "markdown",
   "metadata": {},
   "source": [
    "###  Выводы"
   ]
  },
  {
   "cell_type": "markdown",
   "metadata": {},
   "source": [
    "В ходе исследования, мы оценивали качество разных моделей, меняя их гиперпараметры.\n",
    "Для решения задачи классификации рассмотрены следующие модели:\n",
    "\n",
    "дерево решений / decision tree\n",
    "\n",
    "случайный лес / random forest\n",
    "\n",
    "логистическая регрессия / logistic regression\n",
    "\n",
    "k - ближайших соседей/ k - nearеst neighbor\n",
    "\n",
    "В итоге по указанным моделям мы получили следующие лучшие результаты:\n",
    "\n",
    "Точность модели решающего дерева при глубине 5 равна 0.79004. \n",
    "\n",
    "Точность модели случайного леса при количестве деревьев 10 равна 0.79315. \n",
    "\n",
    "Точность модели логистической регресии при количестве итераций, равном 18, равна 0.75116. \n",
    "\n",
    "Точност модели к-ближайших соседей при количестве сосдедей, равном 4, равна 0.75272.\n",
    "Таким образом, наилучший результат показала модель случайного леса."
   ]
  },
  {
   "cell_type": "markdown",
   "metadata": {},
   "source": [
    "<a id=\"test\"></a>\n",
    "## 4. Проверьте модель на тестовой выборке"
   ]
  },
  {
   "cell_type": "markdown",
   "metadata": {},
   "source": [
    "В результате наших экспериментов на валидационной выборке мы выяснили, что самую высокую оценку правильности дает случайный лес с глубиной равной 5 и количеством деревьев равным 10.\n"
   ]
  },
  {
   "cell_type": "markdown",
   "metadata": {},
   "source": [
    "Проверим,как поведет себя данная модель на тестовой выборке."
   ]
  },
  {
   "cell_type": "code",
   "execution_count": 30,
   "metadata": {},
   "outputs": [
    {
     "name": "stdout",
     "output_type": "stream",
     "text": [
      "Точность модели случаный лест на тестовой выборке 0.7853810264385692\n"
     ]
    }
   ],
   "source": [
    "features_test = df_test.drop(['is_ultra', 'minutes'], axis=1)\n",
    "target_test = df_test['is_ultra']\n",
    "\n",
    "model = RandomForestClassifier(n_estimators=10, max_depth=5, random_state=12345, bootstrap=False)\n",
    "model.fit(features_train, target_train)\n",
    "predictions_test = model.predict(features_test)\n",
    "accuracy = accuracy_score(target_test, predictions_test)\n",
    "print('Точность модели случаный лест на тестовой выборке',accuracy)\n"
   ]
  },
  {
   "cell_type": "code",
   "execution_count": 31,
   "metadata": {
    "scrolled": true
   },
   "outputs": [
    {
     "name": "stdout",
     "output_type": "stream",
     "text": [
      "Точность модели дерево решений на тестовой выборке 0.7838258164852255\n"
     ]
    }
   ],
   "source": [
    "model = DecisionTreeClassifier(max_depth= 5, random_state=12345)\n",
    "model.fit(features_train, target_train)\n",
    "predictions_test = model.predict(features_test)\n",
    "accuracy = accuracy_score(target_test, predictions_test)\n",
    "print('Точность модели дерево решений на тестовой выборке',accuracy)"
   ]
  },
  {
   "cell_type": "code",
   "execution_count": 32,
   "metadata": {
    "scrolled": false
   },
   "outputs": [
    {
     "name": "stdout",
     "output_type": "stream",
     "text": [
      "Точность модели логистической регрессии на тестовой выборке 0.7433903576982893\n"
     ]
    }
   ],
   "source": [
    "model = LogisticRegression(random_state=12345, max_iter=18)\n",
    "model.fit(features_train, target_train)\n",
    "predictions_test = model.predict(features_test)\n",
    "accuracy = accuracy_score(target_test, predictions_test)\n",
    "print('Точность модели логистической регрессии на тестовой выборке',accuracy)"
   ]
  },
  {
   "cell_type": "code",
   "execution_count": 33,
   "metadata": {},
   "outputs": [
    {
     "name": "stdout",
     "output_type": "stream",
     "text": [
      "Точность модели к - ближайших соседей на тестовой выборке 0.71850699844479\n"
     ]
    }
   ],
   "source": [
    "model = KNeighborsClassifier(n_neighbors=4)\n",
    "model.fit(features_train, target_train)\n",
    "predictions_test = model.predict(features_test)\n",
    "accuracy = accuracy_score(target_test, predictions_test)\n",
    "print('Точность модели к - ближайших соседей на тестовой выборке',accuracy)"
   ]
  },
  {
   "cell_type": "markdown",
   "metadata": {},
   "source": [
    "### Выводы"
   ]
  },
  {
   "cell_type": "markdown",
   "metadata": {},
   "source": [
    "На тестовой выборке модель случайного леса показывает значение accuracy, приближенное к тренировочной выборке, но все же ее точность ниже, при этом значение точности на тестовой выборке модели решающее дерево немного ниже, чем у случайного леса. Меньшие значения точности на тестовых выборках мы наблюдаем и по моделям логистической регрессии и к-ближайших соседей, в последнем случае разница особенно велика. Таким образом, в данном случае мы наблюдаем проблему переообучения, но значения, за исключением модели к-ближайших соседей, отличаются не существенно, поэтому можем считать, что нам удалось построить модель для задачи бинарной классификации, которая выберет подходящий тариф.\n",
    "\n",
    "Таким образом, с учетом того, что выборка не будет большой, в данном случае можно рекомендовать к использованию модель случайного леса."
   ]
  },
  {
   "cell_type": "markdown",
   "metadata": {},
   "source": [
    "<a id=\"test_1\"></a>\n",
    "## 5. (бонус) Проверьте модели на адекватность"
   ]
  },
  {
   "cell_type": "markdown",
   "metadata": {},
   "source": [
    "Любая модель дает приближенное описание реального процесса функционирования объекта или системы. Поэтому необходима  процедура доказательства адекватности построенной модели. От решения задачи оценки адекватности зависит степень доверия к результатам.\n",
    "Оценка адекватности модели заключается в проверке степени совпадения модели и реальной системы.В данном случае мы хотим, чтобы выпущенная в \"жизнь\" модель не была подвержена переобучению или недообучению, то есть работала хорошо на реальных данных, которые она не видела в процессе обучения.\n",
    "\n"
   ]
  },
  {
   "cell_type": "markdown",
   "metadata": {},
   "source": [
    "Так, например, оценить адекватность (вменяемость) модели можно, используя несколько метрик:\n",
    "\n",
    "accuracy - точность совпадения прогнозов с правильными ответами.\n",
    "\n",
    "precision - доля объектов, названных классификатором положительными и при этом действительно являющимися положительными.\n",
    "\n",
    "recall - показывает, какую долю объектов положительного класса из всех объектов положительного класса нашел алгоритм."
   ]
  },
  {
   "cell_type": "markdown",
   "metadata": {},
   "source": [
    "оценим адекватность модели случайного леса, которую мы признали наилучшей для решения поставленной задачи."
   ]
  },
  {
   "cell_type": "code",
   "execution_count": 34,
   "metadata": {
    "scrolled": true
   },
   "outputs": [
    {
     "name": "stdout",
     "output_type": "stream",
     "text": [
      "Accuracy = 0.7853810264385692 Precision = 0.7480916030534351 Recall = 0.4827586206896552\n"
     ]
    }
   ],
   "source": [
    "test_predictions = best_forest_model.predict(features_test)\n",
    "accuracy = accuracy_score(target_test, test_predictions)\n",
    "precision = precision_score(target_test, test_predictions)\n",
    "recall = recall_score(target_test, test_predictions)\n",
    "print('Accuracy =', accuracy, 'Precision =', precision, 'Recall =', recall)"
   ]
  },
  {
   "cell_type": "markdown",
   "metadata": {},
   "source": [
    "Существует несколько различных способов объединить precision и recall в агрегированный критерий качества. Так, для оценки адеватности используется F-мера - среднее гармоническое между precision и recall. Если хотя бы один из параметров близок к нулю, то и F-мера стремится к 0. Если оба стремятся к 1, то F-мера тоже стремится к 1."
   ]
  },
  {
   "cell_type": "code",
   "execution_count": 35,
   "metadata": {
    "scrolled": true
   },
   "outputs": [
    {
     "name": "stdout",
     "output_type": "stream",
     "text": [
      "F-мера = 0.5868263473053893\n"
     ]
    }
   ],
   "source": [
    "f_score = f1_score(target_test, test_predictions)\n",
    "print('F-мера =', f_score)"
   ]
  },
  {
   "cell_type": "markdown",
   "metadata": {},
   "source": [
    "качество модели можно считать средним, при этом вцелом модель можно считать адеватной для решения поставленной задачи."
   ]
  },
  {
   "cell_type": "markdown",
   "metadata": {},
   "source": [
    "### Выводы"
   ]
  },
  {
   "cell_type": "markdown",
   "metadata": {},
   "source": [
    "На 5 шаге мы оценивали адекватность модели случайный лес, которую мы выбрали наилучшей для решения поставленной задачи. \n",
    "\n",
    "Мы предположили, что адекватность модели оценивается по нескольким параметрам, в частности для модели классификации это такие метрики, как accuracy, precision и recall. Качество модели лучше всего отражают precision и recall, при этом данные метрики складываются в F-мера как единую оценку качества модели.\n",
    "\n",
    "По результатам проведенных расчетов мы установили, рассматриваемая модель случайного леса получилась среднего качества, при этом для нашей задачи можно считать ее адеквантой."
   ]
  },
  {
   "cell_type": "markdown",
   "metadata": {},
   "source": [
    "<a id=\"conclusion\"></a>\n",
    "## Итоговые выводы"
   ]
  },
  {
   "cell_type": "markdown",
   "metadata": {},
   "source": [
    "В ходе выполнения данной работы сделано нижеследующее.\n",
    "\n",
    "1. В ходе выполнения первого шага мы открыли интересующий файл с данными, сохранив его в датафрейме df, а также получили общую информацию об указанном датафрейме.\n",
    "Таблица включает в себя 5 признаков и 3 214 объектов. Целевым признаком является is_ultra, остальные признаки служат для обучения модели, т.е. модель, которую мы попытались построить, должно предсказывать значение 1, если клиенту нужно предложить тариф \"ультра\", или 0, если тариф \"Смарт\". В этом и заключается задача бинарной классификации, т.к. наш целевой признак является категориальным.\n",
    "\n",
    "2. В процессе выполнения 2 шага мы разделили исходные данные на обучающую, валидационную и тестовую выборки.\n",
    "Данные были разбиты в соотношении 60/20/20.\n",
    "\n",
    "Обозначено, что:\n",
    "\n",
    "* Обучение пройдет на данных df_train\n",
    "\n",
    "* Валидация модели на данных df_valid\n",
    "\n",
    "* Лучшая модель по валидации будет применена на данных df_test.\n",
    "\n",
    "\n",
    "3. В ходе выполнения 3 шага, а именно исследования, мы оценивали качество разных моделей, меняя их гиперпараметры. Для решения задачи классификации рассмотрены следующие модели:\n",
    "\n",
    "дерево решений / decision tree\n",
    "\n",
    "случайный лес / random forest\n",
    "\n",
    "логистическая регрессия / logistic regression\n",
    "\n",
    "k - ближайших соседей/ k - nearest neighbor\n",
    "\n",
    "В итоге, по результам исследования данных моделей, путем изменения их гиперпараметров, мы получили следующие лучшие результаты:\n",
    "\n",
    "Точность модели решающего дерева при глубине 5 равна 0.79004. \n",
    "\n",
    "Точность модели случайного леса при количестве деревьев 10 равна 0.79315. \n",
    "\n",
    "Точность модели логистической регресии при количестве итераций, равном 18, равна 0.75116. \n",
    "\n",
    "Точност модели к-ближайших соседей при количестве сосдедей, равном 4, равна 0.75272.\n",
    "Таким образом, наилучший результат показала модель случайного леса.\n",
    "\n",
    "4. В ходе выполнения 4 шага мы проверяли, как поведут себя наши модели на тестовой выборке.\n",
    "   На тестовой выборке модель случайного леса показала  значение accuracy, приближенное к тренировочной выборке, но все же ее точность ниже, при этом значение точности на тестовой выборке модели решающее дерево немного ниже, чем у случайного леса. Меньшие значения точности на тестовых выборках мы наблюдаем и по моделям логистической регрессии и к-ближайших соседей, в последнем случае разница особенно велика. Таким образом, в данном случае мы наблюдаем проблему переообучения, но значения, за исключением модели к-ближайших соседей, отличаются не существенно, поэтому можем считать, что нам удалось построить модель для задачи бинарной классификации, которая выберет подходящий тариф.\n",
    "\n",
    "Таким образом, с учетом того, что выборка не будет большой, в данном случае можно рекомендовать к использованию модель случайно\n",
    "\n",
    "5. На 5 шаге мы оценивали адекватность модели случайный лес, которую мы выбрали наилучшей для решения поставленной задачи. \n",
    "\n",
    "Мы предположили, что адекватность модели оценивается по нескольким параметрам, в частности для модели классификации это такие метрики, как accuracy, precision и recall. Качество модели лучше всего отражают precision и recall, при этом данные метрики складываются в F-мера как единую оценку качества модели.\n",
    "\n",
    "По результатам проведенных расчетов мы установили, рассматриваемая модель случайного леса получилась среднего качества, при этом для нашей задачи можно считать ее адеквантой."
   ]
  }
 ],
 "metadata": {
  "ExecuteTimeLog": [
   {
    "duration": 1652,
    "start_time": "2021-12-23T21:51:51.671Z"
   },
   {
    "duration": 22,
    "start_time": "2021-12-23T21:51:53.326Z"
   },
   {
    "duration": 23,
    "start_time": "2021-12-23T21:51:53.352Z"
   },
   {
    "duration": 10,
    "start_time": "2021-12-23T21:51:53.378Z"
   },
   {
    "duration": 567,
    "start_time": "2021-12-23T21:51:53.391Z"
   },
   {
    "duration": 9,
    "start_time": "2021-12-23T21:51:53.968Z"
   },
   {
    "duration": 12,
    "start_time": "2021-12-23T21:51:53.979Z"
   },
   {
    "duration": 6,
    "start_time": "2021-12-23T21:51:53.995Z"
   },
   {
    "duration": 6,
    "start_time": "2021-12-23T21:51:54.004Z"
   },
   {
    "duration": 12,
    "start_time": "2021-12-23T21:51:54.013Z"
   },
   {
    "duration": 47,
    "start_time": "2021-12-23T21:51:54.027Z"
   },
   {
    "duration": 223,
    "start_time": "2021-12-23T21:51:54.077Z"
   },
   {
    "duration": 15,
    "start_time": "2021-12-23T21:51:54.304Z"
   },
   {
    "duration": 15,
    "start_time": "2021-12-23T21:51:54.322Z"
   },
   {
    "duration": 13,
    "start_time": "2021-12-23T21:51:54.368Z"
   },
   {
    "duration": 1607,
    "start_time": "2021-12-23T21:51:54.383Z"
   },
   {
    "duration": 40,
    "start_time": "2021-12-23T21:51:55.993Z"
   },
   {
    "duration": 66,
    "start_time": "2021-12-23T21:51:56.035Z"
   },
   {
    "duration": 41,
    "start_time": "2021-12-23T21:51:56.104Z"
   },
   {
    "duration": 57,
    "start_time": "2021-12-23T21:51:56.147Z"
   },
   {
    "duration": 62,
    "start_time": "2021-12-23T21:51:56.206Z"
   },
   {
    "duration": 1478,
    "start_time": "2021-12-23T21:51:56.271Z"
   },
   {
    "duration": 20,
    "start_time": "2021-12-23T21:51:57.767Z"
   },
   {
    "duration": 120,
    "start_time": "2021-12-23T21:51:57.790Z"
   },
   {
    "duration": 15,
    "start_time": "2021-12-23T21:51:57.913Z"
   },
   {
    "duration": 437,
    "start_time": "2021-12-23T21:51:57.930Z"
   },
   {
    "duration": 48,
    "start_time": "2021-12-23T21:51:58.370Z"
   },
   {
    "duration": 177,
    "start_time": "2021-12-23T21:51:58.420Z"
   },
   {
    "duration": 14,
    "start_time": "2021-12-23T21:51:58.600Z"
   },
   {
    "duration": 67,
    "start_time": "2021-12-23T21:51:58.617Z"
   },
   {
    "duration": 15,
    "start_time": "2021-12-23T21:51:58.687Z"
   },
   {
    "duration": 18,
    "start_time": "2021-12-23T21:51:58.706Z"
   },
   {
    "duration": 76,
    "start_time": "2021-12-23T21:51:58.727Z"
   },
   {
    "duration": 14,
    "start_time": "2021-12-23T21:51:58.806Z"
   },
   {
    "duration": 7,
    "start_time": "2021-12-23T21:51:58.822Z"
   }
  ],
  "kernelspec": {
   "display_name": "Python 3",
   "language": "python",
   "name": "python3"
  },
  "language_info": {
   "codemirror_mode": {
    "name": "ipython",
    "version": 3
   },
   "file_extension": ".py",
   "mimetype": "text/x-python",
   "name": "python",
   "nbconvert_exporter": "python",
   "pygments_lexer": "ipython3",
   "version": "3.7.8"
  },
  "toc": {
   "base_numbering": 1,
   "nav_menu": {},
   "number_sections": true,
   "sideBar": true,
   "skip_h1_title": true,
   "title_cell": "Table of Contents",
   "title_sidebar": "Contents",
   "toc_cell": false,
   "toc_position": {},
   "toc_section_display": true,
   "toc_window_display": false
  }
 },
 "nbformat": 4,
 "nbformat_minor": 2
}
